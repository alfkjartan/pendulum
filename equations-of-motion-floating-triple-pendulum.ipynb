{
 "cells": [
  {
   "cell_type": "markdown",
   "metadata": {},
   "source": [
    "# Equations of motion of a planar floating triple pendulum\n",
    "Consider a three-link inverted pendulum, where each link is a homogenous rod.\n",
    "<!--- ![Two-link inverted pendulum](./figures/two-link.png \"Two-link inverted pendulum\") -->\n",
    "<img src=\"./figures/floating-three-link.png\" alt=\"Three-link inverted pendulum\" style=\"width: 300px;\"/>\n",
    "The pendulum moves in the plane\n",
    "\\begin{equation}\n",
    "y = 0\n",
    "\\end{equation}\n",
    "\n",
    "We will make use of the sympy.physics.mechanics module to generate the equations of motion."
   ]
  },
  {
   "cell_type": "code",
   "execution_count": 1,
   "metadata": {
    "collapsed": true
   },
   "outputs": [],
   "source": [
    "import numpy as np\n",
    "import sympy as sy\n",
    "import sympy.physics.mechanics as me "
   ]
  },
  {
   "cell_type": "markdown",
   "metadata": {},
   "source": [
    "## Parameters of the model\n",
    "To describe the links, we need to define their lengths, $l_i$, masses, $m_i$ and the position of the CoM of each link, in fraction of the length of the link from proximal to distal joint. For the base link, link 0, the proximal joint is the lower joint (\"hip joint\"). \n",
    "\n",
    "## Generalized coordinates\n",
    "Five generalized coordinates are needed to describe the system, defined as in the figure above. \n",
    "\n",
    "## The moment of inertia\n",
    "The links are assumed to be homogenous rods. If the mass is $m$, the length is $l$ and CoM is at a fraction $\\alpha$ from the end point, then the moment of inertial wrt the CoM will be the sum of the inertia for the two parts divided at the CoM:\n",
    "\\begin{equation}\n",
    "I = \\alpha m \\frac{(\\alpha l)^2}{3} + (1-\\alpha)m \\frac{\\big((1-\\alpha)l\\big)^2}{3}\n",
    "  = m\\frac{l^2}{3} \\big(\\alpha^3 + (1-\\alpha)^3\\big) \n",
    "  = m\\frac{l^2}{3} \\big( 3\\alpha(\\alpha-1) + 1\\big) \n",
    "\\end{equation}\n",
    "\n"
   ]
  },
  {
   "cell_type": "code",
   "execution_count": 2,
   "metadata": {
    "collapsed": false
   },
   "outputs": [
    {
     "data": {
      "text/plain": [
       "0.250000000000000"
      ]
     },
     "execution_count": 2,
     "metadata": {},
     "output_type": "execute_result"
    }
   ],
   "source": [
    "a = sy.symbols('a')\n",
    "f = sy.simplify(sy.expand(a**3 + (1-a)**3))\n",
    "f.subs(a, 0.5) # Check that it is equal to 0.25"
   ]
  },
  {
   "cell_type": "code",
   "execution_count": 3,
   "metadata": {
    "collapsed": false
   },
   "outputs": [],
   "source": [
    "me.init_vprinting()\n",
    "m = sy.symbols('m:{}'.format(3))             # Mass of each link\n",
    "l = sy.symbols('l:{}'.format(3))             # Length of each link\n",
    "alpha = sy.symbols('alpha:{}'.format(3))     # Position of CoM on link\n",
    "\n",
    "q = me.dynamicsymbols('q:{}'.format(5))      # Generalized coordinates\n",
    "qd = me.dynamicsymbols('q:{}'.format(5), 1)  # Generalized speeds\n",
    "\n",
    "g, t = sy.symbols('g t')                     # Gravity and time"
   ]
  },
  {
   "cell_type": "markdown",
   "metadata": {},
   "source": [
    "## Inertial frame\n",
    "We need to define an inertial frame of reference, named $N$, with origin named $O$."
   ]
  },
  {
   "cell_type": "code",
   "execution_count": 4,
   "metadata": {
    "collapsed": false
   },
   "outputs": [],
   "source": [
    "N = me.ReferenceFrame('N')  # Inertial reference frame\n",
    "O = me.Point('O')           # Origin point\n",
    "O.set_vel(N, 0)             # Origin's velocity is zero"
   ]
  },
  {
   "cell_type": "markdown",
   "metadata": {},
   "source": [
    "## Definition of link 0\n",
    "The point of reference on link 0, and on the complete pendulum is the CoM of link 0. Its position is given by\n",
    "\\begin{equation}\n",
    "p_0 = \\begin{bmatrix} q_3\\\\q_4 \\end{bmatrix}\\\\\n",
    "\\end{equation}\n",
    "\n",
    "We also define a frame $B_0$ fixed to link 0 with z-axis pointing in the length direction of the link. The moment of inertia of the link must be defined, using the expression\n",
    "\\begin{equation}\n",
    "I_x = I_y = m\\frac{l_0^2}{3} \\big( 3a(a-1) + 1\\big). \n",
    "\\end{equation}\n",
    "The moment of inertia about the z-axis of $B_0$ will be zero, since the local z-axis is in the direction of the link.\n",
    "\n",
    "Once the frame, center of mass and moment of inertia are defined, the rigid body object can be created.\n",
    "\n",
    "In the frame $B_0$, the definition of the proximal ($p_{p_0}$) and distal ($p_{d_0}$) end points as displacement from $p_1$ is straight forward.\n",
    "\\begin{align}\n",
    "    p_{p_0} &= p_0 - \\alpha_0 \\,^{B_0}e_z\\\\\n",
    "    p_{d_0} &= p_0 + (1-\\alpha_0) \\, ^{B_1}e_z,\n",
    "\\end{align}\n",
    "where $^{B_0}e_z$ is a unit vector in the z-direction of frame $B_0$."
   ]
  },
  {
   "cell_type": "code",
   "execution_count": 5,
   "metadata": {
    "collapsed": false
   },
   "outputs": [
    {
     "data": {
      "image/png": "[encoded data removed]",
      "text/latex": [
       "$$(l_{0} \\left(- \\alpha_{0} + 1\\right) \\dot{q}_{0} - \\operatorname{sin}\\left(q_{0}\\right) \\dot{q}_{4} + \\operatorname{cos}\\left(q_{0}\\right) \\dot{q}_{3})\\mathbf{\\hat{b_0}_x} + (\\operatorname{sin}\\left(q_{0}\\right) \\dot{q}_{3} + \\operatorname{cos}\\left(q_{0}\\right) \\dot{q}_{4})\\mathbf{\\hat{b_0}_z}$$"
      ],
      "text/plain": [
       "(l₀⋅(-α₀ + 1)⋅q₀̇ - sin(q₀)⋅q₄̇ + cos(q₀)⋅q₃̇) b_0_x + (sin(q₀)⋅q₃̇ + cos(q₀)⋅q₄̇) b_0_z"
      ]
     },
     "execution_count": 5,
     "metadata": {},
     "output_type": "execute_result"
    }
   ],
   "source": [
    "p0 = me.Point('CoM_0')\n",
    "p0.set_pos(O, q[3] * N.x + q[4] * N.z)      # Set the position of CoM    \n",
    "p0.set_vel(N, qd[3] * N.x + qd[4] * N.z)    # Set the velocity\n",
    "B0 = N.orientnew('B_0', 'Axis', [q[0], N.y])# Create the frame for link 1, rotated angle q_1 about the y-axis of N\n",
    "B0.set_ang_vel(N, qd[0] * N.y)              # Set angular velocity\n",
    "\n",
    "# Define moment of inertia.\n",
    "IIx = m[0]*l[0]**2/3*(3*alpha[0]*(alpha[0]-1)+1)\n",
    "II0 = me.functions.inertia(B0, IIx, IIx, 0)\n",
    "\n",
    "link0 = me.RigidBody('Link_0', p0, B0, m[0], (II0, p0))\n",
    "\n",
    "prox0 = me.Point('ProxEnd_0')\n",
    "prox0.set_pos(p0, -alpha[0]*l[0]*B0.z)\n",
    "vp0 = prox0.v2pt_theory(p0, N, B0)\n",
    "dist0 = me.Point('DistEnd_0')\n",
    "dist0.set_pos(p0, (1-alpha[0])*l[0]*B0.z)\n",
    "vd0 = dist0.v2pt_theory(p0, N, B0)\n",
    "vd0.express(B0)"
   ]
  },
  {
   "cell_type": "markdown",
   "metadata": {},
   "source": [
    "## Definition of link 1\n",
    "Now that the end points of link 0 are known. We can proceed to define link 1. First we define a frame $B_1$ obtained from frame $B_0$ by rotation of an angle $q_1$ about the y-axis."
   ]
  },
  {
   "cell_type": "code",
   "execution_count": 6,
   "metadata": {
    "collapsed": false
   },
   "outputs": [],
   "source": [
    "B1 = B0.orientnew('B_1', 'Axis', [q[1], B0.y])\n",
    "B1.set_ang_vel(B0, qd[1] * B1.y)"
   ]
  },
  {
   "cell_type": "markdown",
   "metadata": {},
   "source": [
    "The center of mass of link 1 is found relative to the distal end point of link 0 by going a distance $\\alpha_1 l_1$ in the direction of the z-axis of link 1 \n",
    "\\begin{equation}\n",
    "p_1 = p_{d_0} + \\alpha_1 l_1 \\, ^{B_1}e_z.\n",
    "\\end{equation}\n",
    "The velocity is calculated using the two-point expression \n",
    "\\begin{equation}\n",
    "\\dot{v}_1 = \\dot{p}_{d_0} + \\omega_{B_1} \\times (p_1 - p_{d_0})\n",
    "\\end{equation}"
   ]
  },
  {
   "cell_type": "code",
   "execution_count": 7,
   "metadata": {
    "collapsed": false
   },
   "outputs": [
    {
     "data": {
      "image/png": "[encoded data removed]",
      "text/latex": [
       "$$\\dot{q}_{3}\\mathbf{\\hat{n}_x} + \\dot{q}_{4}\\mathbf{\\hat{n}_z} + l_{0} \\left(- \\alpha_{0} + 1\\right) \\dot{q}_{0}\\mathbf{\\hat{b_0}_x} + \\alpha_{1} l_{1} \\left(\\dot{q}_{0} + \\dot{q}_{1}\\right)\\mathbf{\\hat{b_1}_x}$$"
      ],
      "text/plain": [
       "q₃̇ n_x + q₄̇ n_z + l₀⋅(-α₀ + 1)⋅q₀̇ b_0_x + α₁⋅l₁⋅(q₀̇ + q₁̇) b_1_x"
      ]
     },
     "execution_count": 7,
     "metadata": {},
     "output_type": "execute_result"
    }
   ],
   "source": [
    "p1 = dist0.locatenew('CoM_1', alpha[1]*l[1]*B1.z)\n",
    "v1 = p1.v2pt_theory(dist0, N, B1)                         # Set the velocity\n",
    "v1.express(N)\n",
    "v1"
   ]
  },
  {
   "cell_type": "markdown",
   "metadata": {},
   "source": [
    "The moment of inertia of link 1 is found in the same way as for link 0. We define the link as a rigid body, and also define its endpoint."
   ]
  },
  {
   "cell_type": "code",
   "execution_count": 8,
   "metadata": {
    "collapsed": true
   },
   "outputs": [],
   "source": [
    "IIx = m[1]*l[1]**2 / 3 * (3*alpha[1]*(alpha[1]-1)+1)\n",
    "II1 = me.functions.inertia(B1, IIx, IIx, 0)\n",
    "link1 = me.RigidBody('Link_1', p1, B1, m[1], (II1, p1))\n",
    "\n",
    "dist1 = dist0.locatenew('Hands', l[1]*B1.z)"
   ]
  },
  {
   "cell_type": "markdown",
   "metadata": {},
   "source": [
    "## Definition of link 2\n",
    "The definition of link 2 is very similar to the definition of link 1. Note only that we must be careful about how we define the orientation of the frame attached to link 2. The choice made here is to let the orientation have local z-axis pointing from the joint to the endpoint, and let zero rotation mean a straight joint with the z-axes of link 0 and link 2 have oposite directions. "
   ]
  },
  {
   "cell_type": "code",
   "execution_count": 9,
   "metadata": {
    "collapsed": true
   },
   "outputs": [],
   "source": [
    "B2 = B0.orientnew('B_2', 'Axis', [np.pi + q[2], B0.y])\n",
    "B2.set_ang_vel(B0, qd[2] * B2.y)"
   ]
  },
  {
   "cell_type": "markdown",
   "metadata": {},
   "source": [
    "The center of mass can now be defined relative to the proximal endpoint of link 0"
   ]
  },
  {
   "cell_type": "code",
   "execution_count": 10,
   "metadata": {
    "collapsed": false
   },
   "outputs": [
    {
     "data": {
      "image/png": "[encoded data removed]",
      "text/latex": [
       "$$\\dot{q}_{3}\\mathbf{\\hat{n}_x} + \\dot{q}_{4}\\mathbf{\\hat{n}_z} -  \\alpha_{0} l_{0} \\dot{q}_{0}\\mathbf{\\hat{b_0}_x} + \\alpha_{2} l_{2} \\left(\\dot{q}_{0} + \\dot{q}_{2}\\right)\\mathbf{\\hat{b_2}_x}$$"
      ],
      "text/plain": [
       "q₃̇ n_x + q₄̇ n_z - α₀⋅l₀⋅q₀̇ b_0_x + α₂⋅l₂⋅(q₀̇ + q₂̇) b_2_x"
      ]
     },
     "execution_count": 10,
     "metadata": {},
     "output_type": "execute_result"
    }
   ],
   "source": [
    "p2 = prox0.locatenew('CoM_2', alpha[2]*l[2]*B2.z)\n",
    "v2 = p2.v2pt_theory(prox0, N, B2)\n",
    "v2"
   ]
  },
  {
   "cell_type": "markdown",
   "metadata": {},
   "source": [
    "Finally, we define the moment of inertia, the rigid body and the endpoint (feet)"
   ]
  },
  {
   "cell_type": "code",
   "execution_count": 11,
   "metadata": {
    "collapsed": true
   },
   "outputs": [],
   "source": [
    "IIx = m[2]*l[2]**2 / 3 * (3*alpha[2]*(alpha[2]-1)+1)\n",
    "II2 = me.functions.inertia(B2, IIx, IIx, 0)\n",
    "link2 = me.RigidBody('Link_2', p2, B2, m[2], (II2, p2))\n",
    "\n",
    "dist2 = prox0.locatenew('Feet', l[2]*B2.z)"
   ]
  },
  {
   "cell_type": "markdown",
   "metadata": {},
   "source": [
    "## Test the kinematics of the system\n",
    "Let us consider the hands (endpoint of link 1) as the endpoint of interest, and map its cartesian trajectory for some trajectory in the joint space. \n",
    "\n",
    "The forward map is simply the position of the endpoint, which we have already defined as $p_{d_1}$. We will calculate the vector from the origin to this point, and plot the z- vs x-coordinates of this vector"
   ]
  },
  {
   "cell_type": "code",
   "execution_count": 12,
   "metadata": {
    "collapsed": false
   },
   "outputs": [],
   "source": [
    "import matplotlib.pyplot as plt\n",
    "# %matplotlib notebook\n",
    "vEndpoint = dist1.pos_from(O)\n",
    "\n",
    "# Substitute numerical values for the kinematic parameters\n",
    "subsdict = {alpha[0]:0.3, l[0]:2., l[1]:1., l[2]:1.}\n",
    "vEndpointSubs = vEndpoint.subs(subsdict)\n",
    "\n",
    "epX = me.dot(vEndpointSubs, N.x)\n",
    "epZ = me.dot(vEndpointSubs, N.z)\n",
    "\n",
    "def fwdmap(qn):\n",
    "    return sy.list2numpy([epX.subs(q[0], qn[0]).subs(q[1], qn[1]).subs(q[2], qn[2]).subs(q[3], qn[3]).subs(q[4], qn[4]), \n",
    "                          epZ.subs(q[0], qn[0]).subs(q[1], qn[1]).subs(q[2], qn[2]).subs(q[3], qn[3]).subs(q[4], qn[4])], \n",
    "                          dtype=np.float64)\n",
    "\n",
    "NN = 400\n",
    "qs = np.zeros((5,NN))\n",
    "qs[1,:] = np.linspace(0,34*np.pi, NN) \n",
    "qs[0,:] = np.linspace(0,6.2*np.pi, NN) \n",
    "\n",
    "eptraj = np.array([fwdmap(q_) for q_ in qs.T])\n",
    "\n",
    "plt.figure()\n",
    "plt.plot(eptraj[:,0], eptraj[:,1])\n",
    "plt.axis('equal')\n",
    "plt.show()\n"
   ]
  },
  {
   "cell_type": "markdown",
   "metadata": {},
   "source": [
    "## Animating the mechanism\n"
   ]
  },
  {
   "cell_type": "code",
   "execution_count": 25,
   "metadata": {
    "collapsed": true
   },
   "outputs": [],
   "source": [
    "from matplotlib import animation\n",
    "def animate_pendulum(t, states, points, frame, filename=None):\n",
    "    \"\"\"Animates the floating 3-pendulum and optionally saves it to file.\n",
    "\n",
    "    Parameters\n",
    "    ----------\n",
    "    t : ndarray, 1D, length m\n",
    "        Time array.\n",
    "    states: ndarray, shape(m,5)\n",
    "        State time history.\n",
    "    points: list \n",
    "        List of endpoints and joints. The order is important, since lines will be drawn between the sequence of\n",
    "        points. The points should only depend on the state, so all other symbols (parameters of the model) should be \n",
    "        substituted with numerical values before calling animate_pendulum.\n",
    "    frame: The frame in which to plot the pendulum\n",
    "    filename: string or None, optional\n",
    "        If true a movie file will be saved of the animation. This may take some time.\n",
    "\n",
    "    Returns\n",
    "    -------\n",
    "    fig : matplotlib.Figure\n",
    "        The figure.\n",
    "    anim : matplotlib.FuncAnimation\n",
    "        The animation.\n",
    "\n",
    "    \"\"\"\n",
    "\n",
    "    # Define functions that will generate the x- and z-coordinates from the list of points\n",
    "    x_func = sy.lambdify(q, [me.dot(p, frame.x) for p in points])\n",
    "    z_func = sy.lambdify(q, [me.dot(p, frame.z) for p in points])\n",
    "\n",
    "    #for p in points:\n",
    "    #    x_funcs.append(sy.lambdify(q, me.dot(p, frame.x)))\n",
    "    #    z_funcs.append(sy.lambdify(q, me.dot(p, frame.z)))\n",
    "        \n",
    "        \n",
    "    # Set up the figure, the axis, and the plot elements we want to animate\n",
    "    fig = plt.figure()\n",
    "    \n",
    "    # set the limits \n",
    "    axmin = -5\n",
    "    axmax = 5\n",
    "    \n",
    "    # create the axes\n",
    "    ax = plt.axes(xlim=(axmin, axmax), ylim=(axmin, axmax), aspect='equal', axisbg='black')\n",
    "    \n",
    "    # display the current time\n",
    "    time_text = ax.text(0.04, 0.9, '', transform=ax.transAxes, color=(0.5,0.9, 0.9))\n",
    "    \n",
    "    \n",
    "    # blank line for the pendulum\n",
    "    points_, = ax.plot([], [], 'o', markersize=6, color=(0.6, 0, 0.6))\n",
    "    line_, = ax.plot([], [], lw=3, marker='o', markersize=8, color=(0.6, 0, 0))\n",
    "\n",
    "    # initialization function: plot the background of each frame\n",
    "    def init():\n",
    "        time_text.set_text('')\n",
    "        line_.set_data([], [])\n",
    "        points_.set_data([], [])\n",
    "        return time_text, line_, points_\n",
    "\n",
    "    # animation function: update the objects\n",
    "    def animate(i):\n",
    "        time_text.set_text('time = {:2.2f} s'.format(t[i]))\n",
    "        #x = np.array([xf_(*states[i, :]) for xf_ in x_funcs])\n",
    "        #z = np.array([zf_(*states[i, :]) for zf_ in z_funcs])\n",
    "        x = x_func(*states[i, :])\n",
    "        z = z_func(*states[i, :])\n",
    "        line_.set_data(x, z)\n",
    "        points_.set_data(x, z)\n",
    "        return time_text,line_,points_\n",
    "\n",
    "    # call the animator function\n",
    "    anim = animation.FuncAnimation(fig, animate, frames=len(t), init_func=init,\n",
    "            interval=t[-1] / len(t) * 1000, blit=True, repeat=False)\n",
    "    \n",
    "    # save the animation if a filename is given\n",
    "    if filename is not None:\n",
    "        anim.save(filename, fps=30, writer=\"avconv\", codec='libx264')\n",
    "        \n",
    "    return (anim, fig)"
   ]
  },
  {
   "cell_type": "code",
   "execution_count": 27,
   "metadata": {
    "collapsed": false
   },
   "outputs": [],
   "source": [
    "NN = 400\n",
    "qs = np.zeros((5,NN))\n",
    "qs[2,:] = np.linspace(0,4*np.pi, NN) \n",
    "qs[1,:] = np.linspace(0,3*np.pi, NN) \n",
    "qs[0,:] = np.linspace(0,2*np.pi, NN) \n",
    "states = qs.T\n",
    "\n",
    "# Substitute numerical values for the parameters\n",
    "subsdict = {alpha[0]:0.3, alpha[1]:0.5, alpha[2]:0.8, l[0]:2., l[1]:1., l[2]:1.5}\n",
    "points = [p_.pos_from(O).subs(subsdict) for p_ in [dist2, p2, prox0, p0, dist0, p1, dist1]]\n",
    "\n",
    "timevec = np.linspace(0, 20, NN)\n",
    "\n",
    "(anim, fig) = animate_pendulum(timevec, states, points, B1, filename=\"test-animation.mp4\")\n",
    "plt.show()"
   ]
  },
  {
   "cell_type": "code",
   "execution_count": 29,
   "metadata": {
    "collapsed": false
   },
   "outputs": [
    {
     "data": {
      "text/html": [
       "\n",
       "<video width=\"640\" height=\"480\" controls>\n",
       "  <source src=\"test-animation.mp4\" type=\"video/mp4\">\n",
       "Your browser does not support the video tag, check out the YouTube version instead: http://youtu.be/Nj3_npq7MZI.\n",
       "</video>\n"
      ],
      "text/plain": [
       "<IPython.core.display.HTML object>"
      ]
     },
     "execution_count": 29,
     "metadata": {},
     "output_type": "execute_result"
    }
   ],
   "source": [
    "from IPython.display import HTML\n",
    "html = \\\n",
    "\"\"\"\n",
    "<video width=\"640\" height=\"480\" controls>\n",
    "  <source src=\"test-animation.mp4\" type=\"video/mp4\">\n",
    "Your browser does not support the video tag, check out the YouTube version instead: http://youtu.be/Nj3_npq7MZI.\n",
    "</video>\n",
    "\"\"\"\n",
    "HTML(html)"
   ]
  },
  {
   "cell_type": "code",
   "execution_count": null,
   "metadata": {
    "collapsed": false
   },
   "outputs": [],
   "source": [
    "me.dot(vEndpointSubs, N.x)"
   ]
  },
  {
   "cell_type": "code",
   "execution_count": null,
   "metadata": {
    "collapsed": true
   },
   "outputs": [],
   "source": []
  },
  {
   "cell_type": "code",
   "execution_count": null,
   "metadata": {
    "collapsed": true
   },
   "outputs": [],
   "source": [
    "import numpy as np\n",
    "import sympy as sy\n",
    "%load_ext autoreload\n",
    "%autoreload 2"
   ]
  },
  {
   "cell_type": "code",
   "execution_count": null,
   "metadata": {
    "collapsed": false
   },
   "outputs": [],
   "source": [
    "# In the implementation, we will make the model more general, by allowing the moment of inertia about the \n",
    "# respective center of mass to be specified. Also, the position of the CoM from the pivot of each link\n",
    "# is given as a variable 0 < alpha_i <= 1. So, alpha_i=1 means that the CoM of the link is at the end of the link.\n",
    "\n",
    "q1, q2, q3, q4, qd1, qd2, qd3, qd4 = sy.symbols('q1, q2, q3, q4, qd1, qd2, qd3, qd4', real=True)\n",
    "qdd1, qdd2, qdd3, qdd4 = sy.symbols('qdd1, qdd2, qdd3, qdd4', real=True)\n",
    "g, m1, m2, l1, l2, I1, I2, a1, a2 = sy.symbols('g, m1, m2, l1, l2, I1, I2, alpha1, alpha2', real=True, positive=True)\n",
    "tau1, tau2, Fx, Fy = sy.symbols('tau1, tau2, Fx, Fy', real=True)\n",
    "\n",
    "\n",
    "q = sy.Matrix([[q1],[q2],[q3], [q4]])\n",
    "qd = sy.Matrix([[qd1],[qd2],[qd3], [qd4]])\n",
    "qdd = sy.Matrix([[qdd1],[qdd2],[qdd3], [qdd4]])\n",
    "tau = sy.Matrix([])\n",
    "c1 = sy.cos(q1)\n",
    "s1 = sy.sin(q1)\n",
    "c12 = sy.cos(q1+q2)\n",
    "s12 = sy.sin(q1+q2)\n",
    "\n",
    "p0 = sy.Matrix([[q3 +a1*l1*s1],[q4+a1*l1*c1]])\n",
    "p2 = sy.Matrix([[q3 +l1*s1 + a2*l2*s12],[q4+l1*c1 + a2*l2*c12]])\n",
    "V1 = sy.Matrix([[a2*l1*c1, 0, 1, 0],[-a2*l1*s1, 0, 0, 1]])\n",
    "pd1 = V1*qd\n",
    "V2 = sy.Matrix([[l1*c1+a2*l2*c12, a2*l2*c12, 1, 0 ],[-l1*s1-a2*l2*s12, -a2*l2*s12, 0, 1]])\n",
    "pd2 = V2*qd\n",
    "Omega1 = sy.Matrix([[1, 0, 0 , 0]])\n",
    "w1 = Omega1*qd\n",
    "Omega2 = sy.Matrix([[1, 1, 0 , 0]])\n",
    "w2 = Omega2*qd\n",
    "\n",
    "H = m1*V1.T*V1 + m2*V2.T*V2 + I1*Omega1.T*Omega1 + I2*Omega2.T*Omega2\n",
    "\n",
    "T = 0.5*qd.T*H*qd\n",
    "U = sy.Matrix([m1*g*p0[1] + m2*g*p2[1]])\n",
    "\n",
    "# The equations of motion on manipulator form\n",
    "C = sy.zeros(4,4)\n",
    "G = sy.zeros(4,1)\n",
    "\n",
    "for i in range(4):\n",
    "    qi = q[i]\n",
    "    Hi = H[:,i]\n",
    "    Gammai = Hi.jacobian(q)*qd\n",
    "    ddtdLdqidot = Hi.T*qdd + Gammai.T*qd\n",
    "    dHdqi = H.diff(qi)\n",
    "    Di = 0.5*dHdqi*qd\n",
    "    Gi = U.diff(qi)\n",
    "    dLdqi = Di.T*qd - Gi\n",
    "    #lhs1 = ddtdLdq1dot - dLdq1\n",
    "    # Form the terms for the manipulator form\n",
    "    Ci = Gammai - Di\n",
    "    C[i,:] = Ci.T\n",
    "    G[i] = Gi\n",
    "\n",
    "#dd\n",
    "\n",
    "lhs = H*qdd + C*qd + G\n"
   ]
  },
  {
   "cell_type": "code",
   "execution_count": null,
   "metadata": {
    "collapsed": false
   },
   "outputs": [],
   "source": [
    "## Verify calculations by comparing to equations of motion given explicitly in Tedrake 2009\n",
    "Htest = H.subs(I1,0).subs(I2,0).subs(a1,1).subs(a2,1)\n",
    "Ctest = C.subs(I1,0).subs(I2,0).subs(a1,1).subs(a2,1).subs(qd3,0).subs(qd4,0)\n",
    "Gtest = G.subs(I1,0).subs(I2,0).subs(a1,1).subs(a2,1).subs(qd3,0).subs(qd4,0)\n",
    "\n",
    "print \"H\"\n",
    "sy.pretty_print(sy.trigsimp(Htest[0,0]))\n",
    "sy.pretty_print(sy.trigsimp(Htest[1,0]))\n",
    "sy.pretty_print(sy.trigsimp(Htest[1,1]))\n",
    "# OK!\n",
    "\n",
    "print \"C\"\n",
    "sy.pretty_print(sy.trigsimp(Ctest[0,0])*qd[0] + sy.trigsimp(Ctest[0,1])*qd[1])\n",
    "# OK!\n",
    "\n",
    "print \"G\"\n",
    "sy.pretty_print(sy.trigsimp(Gtest))\n",
    "# OK!\n"
   ]
  },
  {
   "cell_type": "markdown",
   "metadata": {},
   "source": [
    "# Center of mass dynamics\n",
    "The location of center of mass is\n",
    "\\begin{equation}\n",
    "c = \\begin{bmatrix} c_x\\\\c_z \\end{bmatrix} = \\frac{m_1}{m_1+m_2} p_1(q) + \\frac{m_2}{m_1+m_2} p_2(q).\n",
    "\\end{equation}\n",
    "\n",
    "Newton's equations of motion tell us that the acceleration of the CoM equals the sum of external forces acting on the system, and the rate of change of angular momentum of the body w.r.t CoM equals the sum of torques of the external forces w.r.t the CoM.\n",
    "\n",
    "Let $L$ denote the angular momentum of the body, let \n",
    "\\begin{equation}\n",
    "F = \\begin{bmatrix} F_a\\\\M_a \\end{bmatrix}\n",
    "\\end{equation}\n",
    "be the external force and torque applied at the base joint (feet), and \n",
    "\\begin{equation}\n",
    "a(q) = \\begin{bmatrix} a_x\\\\ a_z \\end{bmatrix} = p_b(q) - c(q)\n",
    "\\end{equation}\n",
    "be the vector from the CoM to the base joint where the force is applied. The torque due to the force $F_a$ w.r.t CoM is then\n",
    "\\begin{equation}\n",
    "    M_y = a_zF_x - a_xF_z\n",
    "\\end{equation}\n",
    "\n",
    "The equations of motion can then be written\n",
    "\\begin{equation}\n",
    "\\begin{bmatrix}  D_1\\\\ D_2 \\end{bmatrix} F = \\begin{bmatrix} (m_1+m_2)\\ddot{c} - (m_1+m_2)g\\\\ \\dot{L} \\end{bmatrix},\n",
    "\\end{equation}\n",
    "where\n",
    "\\begin{equation}\n",
    "D_1 = \\begin{bmatrix} I & 0 \\end{bmatrix}\n",
    "\\end{equation}\n",
    "\\begin{equation}\n",
    "D_2 = \\begin{bmatrix} a_z & -a_x & 1 \\end{bmatrix}.\n",
    "\\end{equation}\n",
    "The vector $g$ is the gravity vector which points in the negative $z$-direction, i.e.\n",
    "\\begin{equation}\n",
    "g = \\begin{bmatrix} 0\\\\-9.8 \\end{bmatrix}\n",
    "\\end{equation}\n",
    "\n",
    "Introducing\n",
    "\\begin{equation}\n",
    "K(q) = \\begin{bmatrix} D_1\\\\ D_2(q) \\end{bmatrix},\n",
    "\\end{equation}\n",
    "and\n",
    "\\begin{equation}\n",
    "u = \\begin{bmatrix} (m_1+m_2)\\ddot{c} - (m_1+m_2)g\\\\ \\dot{L} \\end{bmatrix},\n",
    "\\end{equation}\n",
    "the equation of motion of the CoM can be written compactly\n",
    "\\begin{equation}\n",
    "K(q)F = u.\n",
    "\\end{equation}\n",
    "\n"
   ]
  },
  {
   "cell_type": "code",
   "execution_count": null,
   "metadata": {
    "collapsed": false
   },
   "outputs": [],
   "source": [
    "Fa,Ma,L,Ld,cddx,cddz = sy.symbols('Fa, Ma, L, Ld, cddx, cddz', real=True)\n",
    "m = m1+m2\n",
    "pc = m1/m * p0 + m2/m * p2\n",
    "pb = sy.Matrix([q3,q4]) # Column vector\n",
    "pa = pb-pc\n",
    "D1 = sy.Matrix([[1, 0, 0], [0, 1, 0]])\n",
    "D2 = sy.Matrix([[pa[1], -pa[0], 1]])\n",
    "gvec = g*sy.Matrix([0,-1])\n",
    "\n",
    "# Abbreviation as in Stephens and Atkeson 2010: KF = u\n",
    "K = D1.col_join(D2)\n",
    "u = (m*sy.Matrix([cddx, cddz])-m*gvec).col_join(sy.Matrix([[Ld]]))\n"
   ]
  },
  {
   "cell_type": "markdown",
   "metadata": {},
   "source": [
    "# Determining allowable external forces that give desired CoM acceleration\n",
    "The right hand side of the equations of motion\n",
    "\\begin{equation}\n",
    "u = \\begin{bmatrix} (m_1+m_2)\\ddot{c} - (m_1+m_2)g\\\\ \\dot{L} \\end{bmatrix},\n",
    "\\end{equation}\n",
    "consists of known quantities ($m_1$, $m_2$, $g$) and specified, desired quantities ($\\ddot{c}$ and $\\dot{L}$).\n",
    "On the left hand side, the matrix $K(q)$ depends on the current configuration $q$, since\n",
    "\\begin{equation}\n",
    "K(q) = \\begin{bmatrix} D_1\\\\ D_2(q) \\end{bmatrix} = \\begin{bmatrix} 1 & 0 & 0\\\\0 & 1 & 0\\\\ a_z(q) & -a_x(q) & 1 \\end{bmatrix}.\n",
    "\\end{equation}\n",
    "\n",
    "\n",
    "## Constraints\n",
    "Not all forces found as solutions to \n",
    "\\begin{equation}\n",
    "K(q)F = u\n",
    "\\end{equation}\n",
    "are allowed, since they must satisfy constraints on the support polygon (base of support) and friction.\n",
    "<!--- ![Two-link inverted pendulum](./figures/two-link.png \"Two-link inverted pendulum\") -->\n",
    "<img src=\"./figures/BoS-constraints.png\" alt=\"Constraints due to the Base of Support\" style=\"width: 600px;\"/>\n",
    "For the base of support, the constraint takes the form\n",
    "\\begin{equation}\n",
    "-d_x^- \\le -\\frac{M_y}{F_z} \\le d_x^+,\n",
    "\\end{equation}\n",
    "OBS: In Stephens and Atkeson eq (10) there is no minus sign in front of $d_x^-$, meaning it must be a negative number. Here, we take it to be a distance, hence positive.\n",
    "\n",
    "$d_x^-$ is the lower limit of the base of support, and $d_x^+$ is the upper limit. This constraint is equivalent to\n",
    "\\begin{equation}\n",
    "\\frac{M_y}{F_z} \\le d_x^-\n",
    "\\end{equation}\n",
    "\\begin{equation}\n",
    "-\\frac{M_y}{F_z} \\le d_x^+,\n",
    "\\end{equation}\n",
    "which can be written \n",
    "\\begin{equation}\n",
    "M_y - F_z d_x^- \\le 0\n",
    "\\end{equation}\n",
    "\\begin{equation}\n",
    "-M_y - F_z d_x^+ \\le 0\n",
    "\\end{equation}\n",
    "\n",
    "\n",
    "The constraint of friction in 3D is nonlinear. It states that the relative magnitude of the horizontal to the vertical force must be less than a fricion coefficient $\\mu$ specific for the interface between feet and ground.\n",
    "\\begin{equation}\n",
    "\\left| \\frac{\\sqrt{F_x^2 + F_y^2}}{F_z} \\right | \\le \\mu\n",
    "\\end{equation}\n",
    "In the 2D case the constraint is linear, and can be written\n",
    "\\begin{equation}\n",
    "\\left| \\frac{F_x}{F_z} \\right | \\le \\mu,\n",
    "\\end{equation}\n",
    "or\n",
    "\\begin{equation}\n",
    "\\frac{F_x}{F_z} \\le \\mu\n",
    "\\end{equation}\n",
    "\\begin{equation}\n",
    "-\\frac{F_x}{F_z} \\le \\mu\n",
    "\\end{equation}\n",
    "which can be written\n",
    "\\begin{equation}\n",
    "F_x - \\mu F_z \\le 0\n",
    "\\end{equation}\n",
    "\\begin{equation}\n",
    "-F_x - \\mu F_z \\le 0.\n",
    "\\end{equation}\n",
    "where it is assumed that $F_z$ is positive.\n",
    "\n",
    "The constraints can be written as the linear inequality\n",
    "\\begin{equation}\n",
    "BF \\le 0,\n",
    "\\end{equation}\n",
    "where\n",
    "\\begin{equation}\n",
    "B = \\begin{bmatrix} 0 & -d_x^- & 1\\\\ 0 & -dx^+ &-1\\\\ 1 & -\\mu & 0\\\\ -1 & -\\mu & 0 \\end{bmatrix}\n",
    "\\end{equation}\n",
    "\n",
    "# Optimization problem\n",
    "Determining the required contact forces can be formulated as the constrainted optimization problem (Stephens and Atkeson eq (15))\n",
    "\\begin{equation}\n",
    "\\hat{F} = \\arg \\min_F (KF - u)^T(KF-u) + F^TWF,\n",
    "\\end{equation}\n",
    "\\begin{equation}\n",
    "\\text{s.t.} \\quad BF \\le 0,\n",
    "\\end{equation}\n",
    "The matrix $W$ can be used to weight the force differently, for instance to penalize horizontal forces or torques at the ankle joint. \n",
    "\n",
    "The criterion can be rewritten as \n",
    "\\begin{equation}\n",
    "f(F) =  (KF - u)^T(KF-u) + F^TWF = F^T(W + K^TK)F - 2u^T K F + u^Tu,\n",
    "\\end{equation}\n",
    "the last term does not depend on $F$ and can be ignored in the optimization. This gives the quadratic programming problem (QP)\n",
    "\\begin{equation}\n",
    " \\text{minimize} \\quad F^T(W + K^TK)F - 2u^T K F,\n",
    "\\end{equation}\n",
    "\\begin{equation}\n",
    "\\text{s.t.} \\quad BF \\le 0.\n",
    "\\end{equation}\n"
   ]
  },
  {
   "cell_type": "code",
   "execution_count": null,
   "metadata": {
    "collapsed": false
   },
   "outputs": [],
   "source": [
    "import cvxopt as cvx\n",
    "\n",
    "dxmin,dxplus,mu = sy.symbols('dxmin, dxplus, mu')\n",
    "# The general formula for the QP when using cvxopt is\n",
    "# minimize  0.5 x^T Q x + p x,\n",
    "# subject to G x <= h,     B x z= 0 here\n",
    "#            A x = b       not used here\n",
    "# Determine matrices for the QP\n",
    "lmbda = 0.001  # Used to make sure the weighting matrix W is not too big wrt K^TK\n",
    "WW = sy.Matrix([[1, 0, 0],[0, 1, 0],[0,0,1]])*lmbda\n",
    "QQ = 2*(WW + K.T*K)\n",
    "pp = (-2*u.T*K).T\n",
    "GG = sy.Matrix([[0, -dxmin, 1], [0, -dxplus, -1], [1, -mu, 0], [-1, -mu, 0]])\n",
    "hh = sy.Matrix([0,0,0,0])\n",
    "\n",
    "# Numerical example using cvxopt\n",
    "#q1_ = np.pi/12\n",
    "q1_ = 0\n",
    "q2_ = 0\n",
    "q3_ = 0.5\n",
    "q4_ = 0.5\n",
    "cdd = 1 # Magnitude of desired acceleration\n",
    "cddx_ = -1.\n",
    "cddz_ = 0.\n",
    "Ld_ = 200.\n",
    "\n",
    "g_ = 9.799\n",
    "m1_ = 35.\n",
    "m2_ = 40.\n",
    "l1_ = 1.\n",
    "l2_ = 1.\n",
    "alpha1_ = 1.\n",
    "alpha2_ = 1.\n",
    "mu_ = 0.6\n",
    "dxmin_ = 0.08\n",
    "dxplus_ = 0.16\n",
    "\n",
    "# Substitue numerical values\n",
    "QQ_ = QQ.subs(q1, q1_).subs(q2, q2_).subs(m1, m1_).subs(m2, m2_).subs(l1, l1_).subs(l2, l2_).subs(a1, alpha1_)\n",
    "QQ_ = QQ_.subs(a2, alpha2_)\n",
    "pp_ = pp.subs(q1, q1_).subs(q2, q2_).subs(m1, m1_).subs(m2, m2_).subs(l1, l1_).subs(l2, l2_).subs(a1, alpha1_)\n",
    "pp_ = pp_.subs(a2, alpha2_).subs(cddx, cddx_).subs(cddz, cddz_).subs(Ld, Ld_).subs(g, g_)\n",
    "GG_ = GG.subs(dxmin, dxmin_).subs(dxplus, dxplus_).subs(mu, mu_)\n",
    "sy.pretty_print(QQ_)\n",
    "sy.pretty_print(pp_)\n",
    "sy.pretty_print(GG_)\n",
    "\n",
    "# Convert to numpy\n",
    "QQn = sy.matrix2numpy(QQ_)\n",
    "ppn = sy.matrix2numpy(pp_)\n",
    "GGn = sy.matrix2numpy(GG_)\n",
    "hhn = sy.matrix2numpy(hh)\n",
    "\n",
    "# And then to cvxopt matrices\n",
    "print QQn.dtype\n",
    "QQc = cvx.matrix(QQn.astype(np.float64))\n",
    "ppc = cvx.matrix(ppn.astype(np.float64))\n",
    "GGc = cvx.matrix(GGn.astype(np.float64))\n",
    "hhc = cvx.matrix(hhn.astype(np.float64))\n",
    "\n",
    "sol=cvx.solvers.qp(QQc, ppc, GGc, hhc)\n",
    "# Try also unconstrained problem\n",
    "solU = cvx.solvers.qp(QQc, ppc)\n",
    "print \"Constrained solution\"\n",
    "print sol['x']\n",
    "print \"Unconstrained solution\"\n",
    "print solU['x']\n",
    "\n"
   ]
  },
  {
   "cell_type": "markdown",
   "metadata": {},
   "source": [
    "### Verify solution to required contact forces, using standard single pendulum model\n",
    "\n",
    "If the body is static in a certain position, and we require it to be static, then the desired acceleration is zero $\\ddot{c}= 0$ and the desired change in angular momentum is also zero, $\\dot{L} = 0$. \n",
    "\n",
    "The force and momentum at the contact point (foot) must then be such that they balance the force of gravity, while achieving no acceleration of the body. The horizontal force must be zero, and the reaction force must go through the center of mass. This means that the center of pressure is directly below the center of mass. \n",
    "\n",
    "The result from the optimization is a vector $\\hat{F}$ consisting of the horizontal and vertical forces, and the moment about the $y$ - - axis. \n",
    "\\begin{equation}\n",
    "\\hat{F} = \\begin{bmatrix} \\hat{F}_x\\\\ \\hat{F}_z \\\\ \\hat{M}_y \\end{bmatrix}\n",
    "\\end{equation}\n",
    "\n",
    "Consider a person (or robot) standing facing in the $x$ - direction. If $\\hat{M}_y>0$, we must have a center of pressure which is behind the ankle joint. The person is leaning backwards, and the distance must be\n",
    "\\begin{equation}\n",
    "\\hat{d}_x = \\frac{\\hat{M}_y}{\\hat{F}_z}.\n",
    "\\end{equation}\n",
    "This must be the same as the horizontal distance between the CoM and the base joint.\n",
    "\n",
    "Let's check this below.\n"
   ]
  },
  {
   "cell_type": "code",
   "execution_count": null,
   "metadata": {
    "collapsed": false
   },
   "outputs": [],
   "source": [
    "import matplotlib.pyplot as plt\n",
    "import double_pendulum as dpu"
   ]
  },
  {
   "cell_type": "code",
   "execution_count": null,
   "metadata": {
    "collapsed": false
   },
   "outputs": [],
   "source": [
    "reload(dpu)\n",
    "# Set desired accelerations to zero\n",
    "# Numerical example using cvxopt\n",
    "#q1_ = np.pi/12\n",
    "alpha1_ = 0.7\n",
    "alpha2_ = 0.6\n",
    "q1_ = -np.pi/12\n",
    "q2_ = np.pi/4\n",
    "q3_ = 0.5\n",
    "q4_ = 0.5\n",
    "# Desired acceleration\n",
    "cddx_ = 2.\n",
    "cddz_ = 0.\n",
    "Ld_ = 0.\n",
    "\n",
    "# Substitue numerical values\n",
    "QQ_ = QQ.subs(q1, q1_).subs(q2, q2_).subs(m1, m1_).subs(m2, m2_).subs(l1, l1_).subs(l2, l2_).subs(a1, alpha1_)\n",
    "QQ_ = QQ_.subs(a2, alpha2_)\n",
    "pp_ = pp.subs(q1, q1_).subs(q2, q2_).subs(m1, m1_).subs(m2, m2_).subs(l1, l1_).subs(l2, l2_).subs(a1, alpha1_)\n",
    "pp_ = pp_.subs(a2, alpha2_).subs(cddx, cddx_).subs(cddz, cddz_).subs(Ld, Ld_).subs(g, g_)\n",
    "GG_ = GG.subs(dxmin, dxmin_).subs(dxplus, dxplus_).subs(mu, mu_)\n",
    "\n",
    "# Convert to numpy\n",
    "QQn = sy.matrix2numpy(QQ_, dtype=np.float64)\n",
    "ppn = sy.matrix2numpy(pp_, dtype=np.float64)\n",
    "GGn = sy.matrix2numpy(GG_, dtype=np.float64)\n",
    "hhn = sy.matrix2numpy(hh, dtype=np.float64)\n",
    "\n",
    "# And then to cvxopt matrices\n",
    "QQc = cvx.matrix(QQn)\n",
    "ppc = cvx.matrix(ppn)\n",
    "GGc = cvx.matrix(GGn)\n",
    "hhc = cvx.matrix(hhn)\n",
    "\n",
    "sol=cvx.solvers.qp(QQc, ppc, GGc, hhc)\n",
    "# Try also unconstrained problem\n",
    "solU = cvx.solvers.qp(QQc, ppc)\n",
    "print \"Constrained solution\"\n",
    "print sol['x']\n",
    "print \"Unconstrained solution\"\n",
    "print solU['x']\n",
    "\n",
    "# Verify that My/Fz equals distance in x-dir between CoM and base joint\n",
    "sy.pretty_print(pa)\n",
    "pa_ = pa.subs(q1, q1_).subs(q2, q2_).subs(q3, q3_).subs(q4, q4_).subs(a1, alpha1_).subs(a2, alpha2_)\n",
    "pa_ = pa_.subs(m1, m1_).subs(m2, m2_).subs(l1, l1_).subs(l2, l2_)\n",
    "pa_n = sy.matrix2numpy(pa_, dtype=np.float64)\n",
    "\n",
    "print \"My/Fz - ax = %f\" % (sol['x'][2]/sol['x'][1] - pa_n[0])\n",
    "\n",
    "Fx = sol['x'][0]\n",
    "Fz = sol['x'][1]\n",
    "My = sol['x'][2]\n",
    "\n",
    "#Fx = solU['x'][0]\n",
    "#Fz = solU['x'][1]\n",
    "#My = solU['x'][2]\n",
    "\n",
    "dp = dpu.DoublePendulum()\n",
    "dp.L1 = l1_\n",
    "dp.L2 = l2_\n",
    "dp.a1 = alpha1_\n",
    "dp.a2 = alpha2_\n",
    "dp.m1 = m1_\n",
    "dp.m2 = m2_\n",
    "animation = dpu.DoublePendulumAnimation(dp)\n",
    "animation.init_dp(q1_, q2_, q3_, q4_, Fx, Fz, My)\n",
    "\n",
    "plt.show()\n"
   ]
  },
  {
   "cell_type": "code",
   "execution_count": null,
   "metadata": {
    "collapsed": true
   },
   "outputs": [],
   "source": []
  },
  {
   "cell_type": "code",
   "execution_count": null,
   "metadata": {
    "collapsed": false
   },
   "outputs": [],
   "source": [
    "# Check solution\n",
    "Fhat = sy.Matrix(solU['x'])\n",
    "K_ = K.subs(q1, q1_).subs(q2, q2_).subs(m1, m1_).subs(m2, m2_).subs(l1, l1_).subs(l2, l2_).subs(a1, alpha1_)\n",
    "K_ = K_.subs(a2, alpha2_)\n",
    "# Convert to numpy\n",
    "Kn = sy.matrix2numpy(K_, dtype = np.float64)\n",
    "print \"det K = %f\" % np.linalg.det(Kn)\n",
    "print \"uhat = \"\n",
    "uhat = K_*Fhat\n",
    "\n",
    "sy.pretty_print(uhat)\n",
    "un = sy.matrix2numpy(u.subs(m1, m1_).subs(m2,m2_).subs(cddx, cddx_).subs(cddz, cddz_).subs(Ld, Ld_).subs(g, g_),\n",
    "                    dtype = np.float64)\n",
    "print \"u_n =\"\n",
    "print un\n",
    "Fn = np.linalg.solve(Kn, un)\n",
    "print \"F_n =\"\n",
    "print Fn\n",
    "\n",
    "uhatn = np.dot(Kn, Fn)\n",
    "print \"uhat_n = \"\n",
    "print uhatn\n",
    "\n",
    "print \"K_ = \"\n",
    "sy.pretty_print(K_)\n",
    "print \"K'*K = \"\n",
    "sy.pretty_print(K_.T*K_)\n"
   ]
  },
  {
   "cell_type": "code",
   "execution_count": null,
   "metadata": {
    "collapsed": false
   },
   "outputs": [],
   "source": [
    "sy.pretty_print(c)\n",
    "\n",
    "sy.pretty_print(u)\n",
    "sy.pretty_print(K)\n",
    "sy.pretty_print(u.subs(m1, m1_).subs(m2,m2_).subs(cddx, cddx_).subs(cddz, cddz_).subs(Ld, Ld_).subs(g, g_))\n"
   ]
  },
  {
   "cell_type": "markdown",
   "metadata": {},
   "source": [
    "# Jacobian of base joint\n",
    "The position of the base joint (ankle joint) is simply\n",
    "\\begin{equation}\n",
    "p_b = \\begin{bmatrix} 0 & 0 & 1 & 0\\\\ 0 & 0 & 0 & 1\\end{bmatrix} \\begin{bmatrix} q_1\\\\q_2\\\\q_3\\\\q_4\\end{bmatrix}\n",
    "\\end{equation}\n",
    "and the velocity\n",
    "\\begin{equation}\n",
    "v_b = \\begin{bmatrix} 0 & 0 & 1 & 0\\\\ 0 & 0 & 0 & 1\\end{bmatrix} \\begin{bmatrix} \\dot{q}_1\\\\\\dot{q}_2\\\\\\dot{q}_3\\\\\\dot{q}_4\\end{bmatrix}\n",
    "\\end{equation}\n",
    "The feet are asumed to be parallell to the ground, so the orientation is constant\n",
    "\\begin{equation}\n",
    "\\omega_b = 0\n",
    "\\end{equation}\n",
    "\n",
    "Thus, the Jacobian is the matrix $J$ that transforms generalized velocities into velocity of the base joint \n",
    "\\begin{equation}\n",
    "\\begin{bmatrix} v_b\\\\\\omega_b \\end{bmatrix} = J \\dot{q} = \\begin{bmatrix} 0 & I_2\\\\0 & 0\\end{bmatrix} \\dot{q}. \n",
    "\\end{equation}\n",
    "\n",
    "# Constraint equation for the generalized coordinates\n",
    "The equations of motion for the mechanism must be accompanied by a constraint equation obtained by differentiating the equation\n",
    "\\begin{equation}\n",
    "\\begin{bmatrix} v_b\\\\\\omega_b \\end{bmatrix} = J \\dot{q} = \\begin{bmatrix} 0 & I_2\\\\0 & 0\\end{bmatrix} \\dot{q}. \n",
    "\\end{equation}\n",
    "This leads to \n",
    "\\begin{equation}\n",
    "\\begin{bmatrix} \\dot{v}_b\\\\\\dot{\\omega}_b \\end{bmatrix} = J \\ddot{q} + \\dot{J}\\dot{q}. \n",
    "\\end{equation}\n",
    "Specifically, in our case\n",
    "\\begin{equation}\n",
    "\\begin{bmatrix} \\dot{v}_b\\\\\\dot{\\omega}_b \\end{bmatrix} = \\begin{bmatrix} 0 & I_2\\\\0 & 0\\end{bmatrix} \\ddot{q}. \n",
    "\\end{equation}\n",
    "The constraint equation simply tells us that the acceleration in the last two generalized coordinates (the position of the base) must be zero, since we assume that the feet are firmly on the ground. \n"
   ]
  },
  {
   "cell_type": "markdown",
   "metadata": {},
   "source": [
    "# Dynamic balance force control\n",
    "We have worked out most of the preliminary detials, and are now ready to derive the dynamics balance force control.\n",
    "\n",
    "## Augmented equations of motion\n",
    "The equations of motion of the mechanism with the constraint equation is\n",
    "\\begin{equation}\n",
    "H(q)\\ddot{q} + C(q, \\dot{q})\\dot{q} + G(q) = S\\tau + J^T(q)F\n",
    "\\end{equation}\n",
    "\\begin{equation}\n",
    "J\\ddot{q} + \\dot{J}\\dot{q} = \\ddot{P}_b,\n",
    "\\end{equation}\n",
    "where $\\ddot{P}_b$ is the translational and angular acceleration of the base (the feet). The matrix $S$ picks the elements of $\\tau$ that are actuated. In our case, since only the joints are actuated, not the position of the feet, gives\n",
    "\\begin{equation}\n",
    "S = \\begin{bmatrix} I_2 & 0\\\\ 0 & 0 \\end{bmatrix}.\n",
    "\\end{equation}\n",
    "The transpose of the Jacobian $J^T(q)$ relates the external force acting at the feet to forces at the joints. In our case this becomes\n",
    "\\begin{equation}\n",
    "J^T(q) = \\begin{bmatrix} 0 & 0\\\\ I_2 & 0\\end{bmatrix},\n",
    "\\end{equation}\n",
    "and is not dependent on the generalized coordinates $q$. The transposed Jacobian tells us that of the forces and moment acting on the feet \n",
    "\\begin{equation}\n",
    "F = \\begin{bmatrix} F_x\\\\F_z\\\\M_y \\end{bmatrix},\n",
    "\\end{equation}\n",
    "none give (or require) any torques at the joints. Only the generalized coordinates corresponding to the position of the feet are affected, and only by the forces, not by $M_y$.  \n",
    "\n",
    "The equations of motion of the mechanism are augmented with the equations of motion of the center of mass. The unknowns in this equation are the generalized accelerations $\\ddot{q}$, the generalized forces $\\tau$ and the external force $F$. The state of the robot, i.e. $q$ and $\\dot{q}$, is assumed to be known. This gives\n",
    "\\begin{equation}\n",
    "\\begin{bmatrix}\n",
    "H(q) &  -S & -J^T\\\\\n",
    "J(q) & 0 & 0\\\\\n",
    "0 & 0 & D_1\\\\\n",
    "0 & 0 & D_2\n",
    "\\end{bmatrix}\n",
    "\\begin{bmatrix} \\ddot{q} \\\\ \\tau \\\\ F \\end{bmatrix}\n",
    "= \\begin{bmatrix} -N(q, \\dot{q}) \\\\ \\ddot{P}_{\\text{des}} - \\dot{J}\\dot{q} \\\\ m\\ddot{c}_{\\text{des}} + F_g, \\\\ \\dot{L}_{\\text{des}} \\end{bmatrix}\n",
    "\\end{equation}\n",
    "where $N(q, \\dot{q})=C(q,\\dot{q})\\dot{q} + G(q)$. \n",
    "\n",
    "Now, if we solve separately for $F$ using the formulation as an QP in the previous section, we can simplify the equations to \n",
    "\\begin{equation}\n",
    "\\begin{bmatrix}\n",
    "H(q) & -S\\\\\n",
    "J & 0\n",
    "\\end{bmatrix}\n",
    "\\begin{bmatrix} \\ddot{q} \\\\ \\tau \\end{bmatrix}\n",
    "= \\begin{bmatrix} -N(q, \\dot{q}) + J^T\\hat{F}\\\\ -\\dot{J}\\dot{q} \\end{bmatrix}\n",
    "\\end{equation}\n",
    "\n",
    "In the case of our floating double pendulum, this equation becomes\n",
    "\\begin{equation}\n",
    "\\begin{bmatrix}\n",
    "H(q) & -\\begin{bmatrix} I_2 & 0\\\\ 0 & 0 \\end{bmatrix}\\\\\n",
    "\\begin{bmatrix} 0 & I_2\\\\0 & 0\\end{bmatrix} & 0\n",
    "\\end{bmatrix}\n",
    "\\begin{bmatrix} \\ddot{q} \\\\ \\tau \\end{bmatrix}\n",
    "= \\begin{bmatrix} -N(q, \\dot{q}) + \\begin{bmatrix} 0 & 0\\\\ I_2 & 0\\end{bmatrix}\\hat{F}\\\\ 0  \\end{bmatrix}\n",
    "\\end{equation}\n",
    "\n",
    "The system of equation can be written \n",
    "\\begin{equation}\n",
    "Dz = f,\n",
    "\\end{equation}\n",
    "where $D$ is $8 \\times 8$. It can be solved, with regularization matrix $W$ with a pseudo-inverse\n",
    "\\begin{equation}\n",
    "z = (D^TD + W)^{-1}D^Tf.\n",
    "\\end{equation}\n",
    "\n",
    "The solution is \n",
    "\\begin{equation}\n",
    "z = \\begin{bmatrix} \\ddot{q} \\\\ \\tau_{\\text{dbfc}} \\end{bmatrix},\n",
    "\\end{equation}\n",
    "where $\\tau_{\\text{dbfc}}$ are the generalized torques used for feedback control. "
   ]
  },
  {
   "cell_type": "code",
   "execution_count": null,
   "metadata": {
    "collapsed": false
   },
   "outputs": [],
   "source": [
    "# Let's implement the equations and test a few things. \n",
    "N = C*qd + G\n",
    "J = sy.Matrix([[0, 0, 1, 0], [0, 0, 0, 1], [0, 0, 0, 0]])\n",
    "S = sy.Matrix([[1, 0, 0, 0], [0, 1, 0, 0], [0, 0, 0, 0], [0, 0, 0, 0]])\n",
    "Fxs, Fzs, Mys = sy.symbols('Fx, Fz, My') \n",
    "Fhat = sy.Matrix([Fxs, Fzs, Mys])\n",
    "Dr1 = H.row_join(-S)\n",
    "Dr2 = J.row_join(sy.zeros(3,4))\n",
    "D = Dr1.col_join(Dr2)\n",
    "f1 = -N+J.T*Fhat\n",
    "f = f1.col_join(sy.zeros(3,1))\n",
    "\n",
    "# Substitue numerical values\n",
    "qd1_ = 0.1\n",
    "qd2_ = 0.2\n",
    "qd3_ = 0\n",
    "qd4_ = 0\n",
    "I1_ = 1\n",
    "I2_ = 2\n",
    "numvals = {q1:q1_, q2:q2_, q3:q3_, q4:q4_, qd1:qd1_, qd2:qd2_, qd3:qd3_, qd4:qd4_,\n",
    "           m1:m1_, m2:m2_, l1:l1_, l2:l2_, a1:alpha1_, a2:alpha2_, I1:I1_, I2:I2_,\n",
    "           g:9.8, Fxs:10, Fzs:800, Mys:100}\n",
    "\n",
    "D_ = D.subs(numvals)\n",
    "f_ = f.subs(numvals)\n",
    "sy.pretty_print(D_)\n",
    "sy.pretty_print(f_)\n",
    "print D_.rank()\n",
    "Wn = 0.1*np.eye(8)\n",
    "Dn = sy.matrix2numpy(D_, dtype=np.float64)\n",
    "fn = sy.matrix2numpy(f_, dtype=np.float64)\n",
    "\n",
    "z = np.linalg.solve(np.dot(Dn.T, Dn) + Wn, np.dot(Dn.T, fn))\n",
    "print z"
   ]
  },
  {
   "cell_type": "code",
   "execution_count": null,
   "metadata": {
    "collapsed": false
   },
   "outputs": [],
   "source": [
    "np.linalg.solve?"
   ]
  },
  {
   "cell_type": "code",
   "execution_count": null,
   "metadata": {
    "collapsed": true
   },
   "outputs": [],
   "source": []
  }
 ],
 "metadata": {
  "kernelspec": {
   "display_name": "Python 2",
   "language": "python",
   "name": "python2"
  },
  "language_info": {
   "codemirror_mode": {
    "name": "ipython",
    "version": 2
   },
   "file_extension": ".py",
   "mimetype": "text/x-python",
   "name": "python",
   "nbconvert_exporter": "python",
   "pygments_lexer": "ipython2",
   "version": "2.7.11"
  }
 },
 "nbformat": 4,
 "nbformat_minor": 0
}
